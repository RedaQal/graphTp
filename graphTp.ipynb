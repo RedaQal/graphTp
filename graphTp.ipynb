{
 "cells": [
  {
   "cell_type": "code",
   "execution_count": 13,
   "id": "64d2833a",
   "metadata": {},
   "outputs": [
    {
     "name": "stdout",
     "output_type": "stream",
     "text": [
      "[[0, 75, 28, 5], [75, 0, 27, 32], [28, 27, 0, 56], [5, 32, 56, 0]]\n"
     ]
    }
   ],
   "source": [
    "import random\n",
    "def generateGraph():\n",
    "    nb = 4\n",
    "    matrice = []\n",
    "    for i in range(nb):\n",
    "        matrice.append([])\n",
    "        for j in range(nb):\n",
    "            if i == j:\n",
    "                matrice[i].append(0)\n",
    "            elif i < j:\n",
    "                matrice[i].append(random.randint(1, 100))\n",
    "            else:\n",
    "                matrice[i].append(matrice[j][i])\n",
    "    with open(\"./tp.txt\", \"w\") as f:\n",
    "        f.write(str(nb) + \"\\n\")\n",
    "        for i in range(nb):\n",
    "            for j in range(nb):\n",
    "                f.write(str(matrice[i][j]) + \" \")\n",
    "            f.write(\"\\n\")\n",
    "    print(matrice)\n",
    "generateGraph()"
   ]
  },
  {
   "cell_type": "code",
   "execution_count": 15,
   "id": "7c9a18a7",
   "metadata": {},
   "outputs": [
    {
     "name": "stdout",
     "output_type": "stream",
     "text": [
      "Route :  [(2, 1), (2, 0), (0, 3)]\n",
      "Cost :  60\n"
     ]
    }
   ],
   "source": [
    "resultMatrice = []\n",
    "with open(\"./tp.txt\", \"r\") as f:\n",
    "    f.readline()\n",
    "    for line in f:\n",
    "        resultMatrice.append([int(x) for x in line.split()])\n",
    "def MinimumDistance(matrice):\n",
    "    n = len(matrice)\n",
    "    visited= [random.randint(0,n-1)]\n",
    "    result = []\n",
    "    cost = 0\n",
    "    while len(visited) < n:\n",
    "        minWeight = 101\n",
    "        u = 0\n",
    "        v = 0\n",
    "        for i in visited:\n",
    "            for j in range(n):\n",
    "                if matrice[i][j] != 0 and j not in visited:\n",
    "                    if matrice[i][j] < minWeight:\n",
    "                        minWeight = matrice[i][j]\n",
    "                        u = i\n",
    "                        v = j\n",
    "        visited.append(v)\n",
    "        result.append((u, v)) \n",
    "        cost += minWeight\n",
    "    return visited, result, cost\n",
    "MD = MinimumDistance(resultMatrice)\n",
    "print(\"Route : \", MD[1])\n",
    "print(\"Cost : \", MD[2])"
   ]
  }
 ],
 "metadata": {
  "kernelspec": {
   "display_name": "base",
   "language": "python",
   "name": "python3"
  },
  "language_info": {
   "codemirror_mode": {
    "name": "ipython",
    "version": 3
   },
   "file_extension": ".py",
   "mimetype": "text/x-python",
   "name": "python",
   "nbconvert_exporter": "python",
   "pygments_lexer": "ipython3",
   "version": "3.12.7"
  }
 },
 "nbformat": 4,
 "nbformat_minor": 5
}
